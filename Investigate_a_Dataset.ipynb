{
 "cells": [
  {
   "cell_type": "markdown",
   "metadata": {},
   "source": [
    "\n",
    "# Project: Investigate a Dataset - [Appointment_data]\n",
    "\n",
    "## Table of Contents\n",
    "<ul>\n",
    "<li><a href=\"#intro\">Introduction</a></li>\n",
    "<li><a href=\"#wrangling\">Data Wrangling</a></li>\n",
    "<li><a href=\"#eda\">Exploratory Data Analysis</a></li>\n",
    "<li><a href=\"#conclusions\">Conclusions</a></li>\n",
    "</ul>"
   ]
  },
  {
   "cell_type": "markdown",
   "metadata": {},
   "source": [
    "# Introduction"
   ]
  },
  {
   "cell_type": "markdown",
   "metadata": {},
   "source": [
    "Dataset Description \n",
    "\n",
    "This data entails 100k medical appointments infromation of 100 thousand patients in Brazil.\n",
    "some characteristics about the patient in the dataframe includes :the scheduled date, appointment date, the ailment, if they received sms, if they showed up for the appointment."
   ]
  },
  {
   "cell_type": "markdown",
   "metadata": {},
   "source": [
    "# Question(s) for Analysis"
   ]
  },
  {
   "cell_type": "markdown",
   "metadata": {},
   "source": [
    "We are to determine important factors  we can use to predict if a patient will show up for their scheduled appointment or not\n",
    "\n",
    "The questions to ask are:\n",
    "\n",
    "1. what age range of patients are the highest?\n",
    "2. What age range of patients shows up for their appointment the most?\n",
    "3. What neighborhood hospital has the highest registration?\n",
    "4. what percentage of patients benefited from the scholarship ?\n",
    "5. what are the days interval between scheduled and appointment day?\n",
    "6. what day Interval shows up the most for appointment?"
   ]
  },
  {
   "cell_type": "markdown",
   "metadata": {},
   "source": [
    "We import statements for all of the packages to be used in the project"
   ]
  },
  {
   "cell_type": "code",
   "execution_count": 1,
   "metadata": {},
   "outputs": [],
   "source": [
    "import pandas as pd\n",
    "import matplotlib.pyplot as plt\n",
    "import numpy as np\n",
    "import seaborn as sns\n",
    "% matplotlib inline"
   ]
  },
  {
   "cell_type": "code",
   "execution_count": 2,
   "metadata": {},
   "outputs": [
    {
     "name": "stdout",
     "output_type": "stream",
     "text": [
      "Requirement already up-to-date: pandas==0.25.0 in /opt/conda/lib/python3.6/site-packages (0.25.0)\r\n",
      "Requirement already satisfied, skipping upgrade: numpy>=1.13.3 in /opt/conda/lib/python3.6/site-packages (from pandas==0.25.0) (1.19.5)\r\n",
      "Requirement already satisfied, skipping upgrade: python-dateutil>=2.6.1 in /opt/conda/lib/python3.6/site-packages (from pandas==0.25.0) (2.6.1)\r\n",
      "Requirement already satisfied, skipping upgrade: pytz>=2017.2 in /opt/conda/lib/python3.6/site-packages (from pandas==0.25.0) (2017.3)\r\n",
      "Requirement already satisfied, skipping upgrade: six>=1.5 in /opt/conda/lib/python3.6/site-packages (from python-dateutil>=2.6.1->pandas==0.25.0) (1.11.0)\r\n"
     ]
    }
   ],
   "source": [
    "# Upgrade pandas to use dataframe.explode() function. \n",
    "!pip install --upgrade pandas==0.25.0"
   ]
  },
  {
   "cell_type": "markdown",
   "metadata": {},
   "source": [
    "We load in the data which is 'Appointment_data' in csv format and check some characteristics"
   ]
  },
  {
   "cell_type": "code",
   "execution_count": 3,
   "metadata": {},
   "outputs": [
    {
     "name": "stdout",
     "output_type": "stream",
     "text": [
      "<class 'pandas.core.frame.DataFrame'>\n",
      "RangeIndex: 110527 entries, 0 to 110526\n",
      "Data columns (total 14 columns):\n",
      "PatientId         110527 non-null float64\n",
      "AppointmentID     110527 non-null int64\n",
      "Gender            110527 non-null object\n",
      "ScheduledDay      110527 non-null object\n",
      "AppointmentDay    110527 non-null object\n",
      "Age               110527 non-null int64\n",
      "Neighbourhood     110527 non-null object\n",
      "Scholarship       110527 non-null int64\n",
      "Hipertension      110527 non-null int64\n",
      "Diabetes          110527 non-null int64\n",
      "Alcoholism        110527 non-null int64\n",
      "Handcap           110527 non-null int64\n",
      "SMS_received      110527 non-null int64\n",
      "No-show           110527 non-null object\n",
      "dtypes: float64(1), int64(8), object(5)\n",
      "memory usage: 11.8+ MB\n"
     ]
    },
    {
     "data": {
      "text/plain": [
       "(110527, 14)"
      ]
     },
     "execution_count": 3,
     "metadata": {},
     "output_type": "execute_result"
    }
   ],
   "source": [
    "df = pd.read_csv('Appointment_data.csv')\n",
    "df.info()\n",
    "df.shape\n"
   ]
  },
  {
   "cell_type": "markdown",
   "metadata": {},
   "source": [
    "We check for null values"
   ]
  },
  {
   "cell_type": "code",
   "execution_count": 4,
   "metadata": {},
   "outputs": [
    {
     "data": {
      "text/plain": [
       "PatientId         0\n",
       "AppointmentID     0\n",
       "Gender            0\n",
       "ScheduledDay      0\n",
       "AppointmentDay    0\n",
       "Age               0\n",
       "Neighbourhood     0\n",
       "Scholarship       0\n",
       "Hipertension      0\n",
       "Diabetes          0\n",
       "Alcoholism        0\n",
       "Handcap           0\n",
       "SMS_received      0\n",
       "No-show           0\n",
       "dtype: int64"
      ]
     },
     "execution_count": 4,
     "metadata": {},
     "output_type": "execute_result"
    }
   ],
   "source": [
    "df.isnull().sum()"
   ]
  },
  {
   "cell_type": "markdown",
   "metadata": {},
   "source": [
    "We check for duplicates value"
   ]
  },
  {
   "cell_type": "code",
   "execution_count": 5,
   "metadata": {},
   "outputs": [
    {
     "data": {
      "text/plain": [
       "0         False\n",
       "1         False\n",
       "2         False\n",
       "3         False\n",
       "4         False\n",
       "          ...  \n",
       "110522    False\n",
       "110523    False\n",
       "110524    False\n",
       "110525    False\n",
       "110526    False\n",
       "Length: 110527, dtype: bool"
      ]
     },
     "execution_count": 5,
     "metadata": {},
     "output_type": "execute_result"
    }
   ],
   "source": [
    "df.duplicated()"
   ]
  },
  {
   "cell_type": "markdown",
   "metadata": {},
   "source": [
    "We check for value types of each column"
   ]
  },
  {
   "cell_type": "code",
   "execution_count": 6,
   "metadata": {},
   "outputs": [
    {
     "data": {
      "text/plain": [
       "PatientId         float64\n",
       "AppointmentID       int64\n",
       "Gender             object\n",
       "ScheduledDay       object\n",
       "AppointmentDay     object\n",
       "Age                 int64\n",
       "Neighbourhood      object\n",
       "Scholarship         int64\n",
       "Hipertension        int64\n",
       "Diabetes            int64\n",
       "Alcoholism          int64\n",
       "Handcap             int64\n",
       "SMS_received        int64\n",
       "No-show            object\n",
       "dtype: object"
      ]
     },
     "execution_count": 6,
     "metadata": {},
     "output_type": "execute_result"
    }
   ],
   "source": [
    "df.dtypes"
   ]
  },
  {
   "cell_type": "markdown",
   "metadata": {},
   "source": [
    "From the investigation done above, it can be deduced that;\n",
    "1. the dataframe has 110527 rows and 14 columns\n",
    "2. there are no null values and there are no duplicated values\n",
    "3. most of the columns are entered in the wrong datatypes such as scheduled day, appointment day in which we will rectify in data cleaning"
   ]
  },
  {
   "cell_type": "markdown",
   "metadata": {},
   "source": [
    "### Data Cleaning"
   ]
  },
  {
   "cell_type": "markdown",
   "metadata": {},
   "source": [
    "Since the data has no misssing values and No duplicated values, the major thing to correct are the data types.\n",
    "\n",
    "The data types are not inline with most column values, thereby data types of some columns will be corrected"
   ]
  },
  {
   "cell_type": "markdown",
   "metadata": {},
   "source": [
    "We will convert AppointmentDay and Scheduled day data type from object to datetime"
   ]
  },
  {
   "cell_type": "code",
   "execution_count": 7,
   "metadata": {},
   "outputs": [],
   "source": [
    "df['AppointmentDay'] = pd.to_datetime(df['AppointmentDay'])\n",
    "df['ScheduledDay'] = pd.to_datetime(df['ScheduledDay'])"
   ]
  },
  {
   "cell_type": "markdown",
   "metadata": {},
   "source": [
    "the column 'SMS received' which state weather a patient received SMS as reminder for appointment is best converted from integer to string, since its a yes or no question."
   ]
  },
  {
   "cell_type": "code",
   "execution_count": 8,
   "metadata": {},
   "outputs": [],
   "source": [
    "df['SMS_received'] = df['SMS_received'].map(\n",
    "                   {'Yes':False ,'No':True})"
   ]
  },
  {
   "cell_type": "markdown",
   "metadata": {},
   "source": [
    "In the AppointmentDay and Schedule day, it can be seen that Date and Time are joined together in the values input. Thereby we separate the values into Date and Time and create separate columns for them"
   ]
  },
  {
   "cell_type": "code",
   "execution_count": 9,
   "metadata": {},
   "outputs": [
    {
     "name": "stdout",
     "output_type": "stream",
     "text": [
      "DataFrame is:\n",
      "            PatientId  AppointmentID Gender              ScheduledDay  \\\n",
      "0       2.987250e+13        5642903      F 2016-04-29 18:38:08+00:00   \n",
      "1       5.589978e+14        5642503      M 2016-04-29 16:08:27+00:00   \n",
      "2       4.262962e+12        5642549      F 2016-04-29 16:19:04+00:00   \n",
      "3       8.679512e+11        5642828      F 2016-04-29 17:29:31+00:00   \n",
      "4       8.841186e+12        5642494      F 2016-04-29 16:07:23+00:00   \n",
      "...              ...            ...    ...                       ...   \n",
      "110522  2.572134e+12        5651768      F 2016-05-03 09:15:35+00:00   \n",
      "110523  3.596266e+12        5650093      F 2016-05-03 07:27:33+00:00   \n",
      "110524  1.557663e+13        5630692      F 2016-04-27 16:03:52+00:00   \n",
      "110525  9.213493e+13        5630323      F 2016-04-27 15:09:23+00:00   \n",
      "110526  3.775115e+14        5629448      F 2016-04-27 13:30:56+00:00   \n",
      "\n",
      "                  AppointmentDay  Age      Neighbourhood  Scholarship  \\\n",
      "0      2016-04-29 00:00:00+00:00   62    JARDIM DA PENHA            0   \n",
      "1      2016-04-29 00:00:00+00:00   56    JARDIM DA PENHA            0   \n",
      "2      2016-04-29 00:00:00+00:00   62      MATA DA PRAIA            0   \n",
      "3      2016-04-29 00:00:00+00:00    8  PONTAL DE CAMBURI            0   \n",
      "4      2016-04-29 00:00:00+00:00   56    JARDIM DA PENHA            0   \n",
      "...                          ...  ...                ...          ...   \n",
      "110522 2016-06-07 00:00:00+00:00   56        MARIA ORTIZ            0   \n",
      "110523 2016-06-07 00:00:00+00:00   51        MARIA ORTIZ            0   \n",
      "110524 2016-06-07 00:00:00+00:00   21        MARIA ORTIZ            0   \n",
      "110525 2016-06-07 00:00:00+00:00   38        MARIA ORTIZ            0   \n",
      "110526 2016-06-07 00:00:00+00:00   54        MARIA ORTIZ            0   \n",
      "\n",
      "        Hipertension  Diabetes  Alcoholism  Handcap SMS_received No-show  \n",
      "0                  1         0           0        0          NaN      No  \n",
      "1                  0         0           0        0          NaN      No  \n",
      "2                  0         0           0        0          NaN      No  \n",
      "3                  0         0           0        0          NaN      No  \n",
      "4                  1         1           0        0          NaN      No  \n",
      "...              ...       ...         ...      ...          ...     ...  \n",
      "110522             0         0           0        0          NaN      No  \n",
      "110523             0         0           0        0          NaN      No  \n",
      "110524             0         0           0        0          NaN      No  \n",
      "110525             0         0           0        0          NaN      No  \n",
      "110526             0         0           0        0          NaN      No  \n",
      "\n",
      "[110527 rows x 14 columns]\n"
     ]
    }
   ],
   "source": [
    "#separating date from time by creating new columns Appointment Day and Appointment Time\n",
    "\n",
    "pd.DataFrame({'AppointmentDay':pd.date_range('2016-04-29 00:00',periods=6)})\n",
    "print(\"DataFrame is:\\n\", df)\n",
    "df['Appointment_date'] = pd.to_datetime(df['AppointmentDay']).dt.date\n",
    "df['Appointment_time'] = pd.to_datetime(df['AppointmentDay']).dt.time"
   ]
  },
  {
   "cell_type": "code",
   "execution_count": 10,
   "metadata": {},
   "outputs": [
    {
     "name": "stdout",
     "output_type": "stream",
     "text": [
      "DataFrame is:\n",
      "            PatientId  AppointmentID Gender              ScheduledDay  \\\n",
      "0       2.987250e+13        5642903      F 2016-04-29 18:38:08+00:00   \n",
      "1       5.589978e+14        5642503      M 2016-04-29 16:08:27+00:00   \n",
      "2       4.262962e+12        5642549      F 2016-04-29 16:19:04+00:00   \n",
      "3       8.679512e+11        5642828      F 2016-04-29 17:29:31+00:00   \n",
      "4       8.841186e+12        5642494      F 2016-04-29 16:07:23+00:00   \n",
      "...              ...            ...    ...                       ...   \n",
      "110522  2.572134e+12        5651768      F 2016-05-03 09:15:35+00:00   \n",
      "110523  3.596266e+12        5650093      F 2016-05-03 07:27:33+00:00   \n",
      "110524  1.557663e+13        5630692      F 2016-04-27 16:03:52+00:00   \n",
      "110525  9.213493e+13        5630323      F 2016-04-27 15:09:23+00:00   \n",
      "110526  3.775115e+14        5629448      F 2016-04-27 13:30:56+00:00   \n",
      "\n",
      "                  AppointmentDay  Age      Neighbourhood  Scholarship  \\\n",
      "0      2016-04-29 00:00:00+00:00   62    JARDIM DA PENHA            0   \n",
      "1      2016-04-29 00:00:00+00:00   56    JARDIM DA PENHA            0   \n",
      "2      2016-04-29 00:00:00+00:00   62      MATA DA PRAIA            0   \n",
      "3      2016-04-29 00:00:00+00:00    8  PONTAL DE CAMBURI            0   \n",
      "4      2016-04-29 00:00:00+00:00   56    JARDIM DA PENHA            0   \n",
      "...                          ...  ...                ...          ...   \n",
      "110522 2016-06-07 00:00:00+00:00   56        MARIA ORTIZ            0   \n",
      "110523 2016-06-07 00:00:00+00:00   51        MARIA ORTIZ            0   \n",
      "110524 2016-06-07 00:00:00+00:00   21        MARIA ORTIZ            0   \n",
      "110525 2016-06-07 00:00:00+00:00   38        MARIA ORTIZ            0   \n",
      "110526 2016-06-07 00:00:00+00:00   54        MARIA ORTIZ            0   \n",
      "\n",
      "        Hipertension  Diabetes  Alcoholism  Handcap SMS_received No-show  \\\n",
      "0                  1         0           0        0          NaN      No   \n",
      "1                  0         0           0        0          NaN      No   \n",
      "2                  0         0           0        0          NaN      No   \n",
      "3                  0         0           0        0          NaN      No   \n",
      "4                  1         1           0        0          NaN      No   \n",
      "...              ...       ...         ...      ...          ...     ...   \n",
      "110522             0         0           0        0          NaN      No   \n",
      "110523             0         0           0        0          NaN      No   \n",
      "110524             0         0           0        0          NaN      No   \n",
      "110525             0         0           0        0          NaN      No   \n",
      "110526             0         0           0        0          NaN      No   \n",
      "\n",
      "       Appointment_date Appointment_time  \n",
      "0            2016-04-29         00:00:00  \n",
      "1            2016-04-29         00:00:00  \n",
      "2            2016-04-29         00:00:00  \n",
      "3            2016-04-29         00:00:00  \n",
      "4            2016-04-29         00:00:00  \n",
      "...                 ...              ...  \n",
      "110522       2016-06-07         00:00:00  \n",
      "110523       2016-06-07         00:00:00  \n",
      "110524       2016-06-07         00:00:00  \n",
      "110525       2016-06-07         00:00:00  \n",
      "110526       2016-06-07         00:00:00  \n",
      "\n",
      "[110527 rows x 16 columns]\n"
     ]
    }
   ],
   "source": [
    "#separating date from time by creating new columns Scheduled Date and Scheduled Time\n",
    "\n",
    "pd.DataFrame({'ScheduledDay':pd.date_range('2016-04-29 18:38',periods=6)})\n",
    "print(\"DataFrame is:\\n\", df)\n",
    "df['Scheduled_date'] = pd.to_datetime(df['ScheduledDay']).dt.date\n",
    "df['Scheduled_time'] = pd.to_datetime(df['ScheduledDay']).dt.time"
   ]
  },
  {
   "cell_type": "code",
   "execution_count": 11,
   "metadata": {},
   "outputs": [],
   "source": [
    "#converting the new columns created to the appropriate data type\n",
    "\n",
    "df['Scheduled_date'] = pd.to_datetime(df['Scheduled_date'])\n",
    "df['Appointment_date'] = pd.to_datetime(df['Appointment_date'])"
   ]
  },
  {
   "cell_type": "code",
   "execution_count": 12,
   "metadata": {},
   "outputs": [
    {
     "data": {
      "text/plain": [
       "PatientId                       float64\n",
       "AppointmentID                     int64\n",
       "Gender                           object\n",
       "ScheduledDay        datetime64[ns, UTC]\n",
       "AppointmentDay      datetime64[ns, UTC]\n",
       "Age                               int64\n",
       "Neighbourhood                    object\n",
       "Scholarship                       int64\n",
       "Hipertension                      int64\n",
       "Diabetes                          int64\n",
       "Alcoholism                        int64\n",
       "Handcap                           int64\n",
       "SMS_received                     object\n",
       "No-show                          object\n",
       "Appointment_date         datetime64[ns]\n",
       "Appointment_time                 object\n",
       "Scheduled_date           datetime64[ns]\n",
       "Scheduled_time                   object\n",
       "dtype: object"
      ]
     },
     "execution_count": 12,
     "metadata": {},
     "output_type": "execute_result"
    }
   ],
   "source": [
    "#to confirm if the data types are in line\n",
    "\n",
    "df.dtypes"
   ]
  },
  {
   "cell_type": "markdown",
   "metadata": {},
   "source": [
    "For our analysis, its important to find out the days interval between a patients scheduled date and appointment day. \n",
    "To derive this, we subtract the scheduled date from the appointment date which we name the column 'Days_interval'.\n",
    "\n",
    "We do this to later check if the days interval between the scheduled and appointment day is a factor that determine if a  patients will show up for appointment or not."
   ]
  },
  {
   "cell_type": "code",
   "execution_count": 13,
   "metadata": {},
   "outputs": [],
   "source": [
    "from datetime import date\n",
    " \n",
    "df['Days_interval'] = df['Appointment_date'].dt.date - df['Scheduled_date'].dt.date"
   ]
  },
  {
   "cell_type": "markdown",
   "metadata": {},
   "source": [
    "The result generated is in strings. We therefore convert it to integers to get the numeric format of days interval"
   ]
  },
  {
   "cell_type": "code",
   "execution_count": 14,
   "metadata": {},
   "outputs": [],
   "source": [
    "df['Days_interval'] = df.Days_interval.apply(lambda x: x.days)"
   ]
  },
  {
   "cell_type": "code",
   "execution_count": 15,
   "metadata": {},
   "outputs": [
    {
     "data": {
      "text/plain": [
       "No     88208\n",
       "Yes    22319\n",
       "Name: No-show, dtype: int64"
      ]
     },
     "execution_count": 15,
     "metadata": {},
     "output_type": "execute_result"
    }
   ],
   "source": [
    "df['No-show'].value_counts()"
   ]
  },
  {
   "cell_type": "markdown",
   "metadata": {},
   "source": [
    "the 'No show' columns state the absense or presence of the patient for appointment. The Heading of the column can be tricky during analysis because its in negative form, so we rename the column.   "
   ]
  },
  {
   "cell_type": "code",
   "execution_count": 16,
   "metadata": {},
   "outputs": [],
   "source": [
    "df.rename(columns = {'No-show':'Show'}, inplace = True)\n"
   ]
  },
  {
   "cell_type": "markdown",
   "metadata": {},
   "source": [
    "Since the column has been renamed to ommit the negative, we thereby redefine the responses to suit the new name."
   ]
  },
  {
   "cell_type": "code",
   "execution_count": 17,
   "metadata": {},
   "outputs": [],
   "source": [
    "df['Show'] = df['Show'].map(\n",
    "                   {'Yes':False ,'No':True})"
   ]
  },
  {
   "cell_type": "code",
   "execution_count": 18,
   "metadata": {},
   "outputs": [
    {
     "data": {
      "text/html": [
       "<div>\n",
       "<style scoped>\n",
       "    .dataframe tbody tr th:only-of-type {\n",
       "        vertical-align: middle;\n",
       "    }\n",
       "\n",
       "    .dataframe tbody tr th {\n",
       "        vertical-align: top;\n",
       "    }\n",
       "\n",
       "    .dataframe thead th {\n",
       "        text-align: right;\n",
       "    }\n",
       "</style>\n",
       "<table border=\"1\" class=\"dataframe\">\n",
       "  <thead>\n",
       "    <tr style=\"text-align: right;\">\n",
       "      <th></th>\n",
       "      <th>PatientId</th>\n",
       "      <th>AppointmentID</th>\n",
       "      <th>Gender</th>\n",
       "      <th>ScheduledDay</th>\n",
       "      <th>AppointmentDay</th>\n",
       "      <th>Age</th>\n",
       "      <th>Neighbourhood</th>\n",
       "      <th>Scholarship</th>\n",
       "      <th>Hipertension</th>\n",
       "      <th>Diabetes</th>\n",
       "      <th>Alcoholism</th>\n",
       "      <th>Handcap</th>\n",
       "      <th>SMS_received</th>\n",
       "      <th>Show</th>\n",
       "      <th>Appointment_date</th>\n",
       "      <th>Appointment_time</th>\n",
       "      <th>Scheduled_date</th>\n",
       "      <th>Scheduled_time</th>\n",
       "      <th>Days_interval</th>\n",
       "    </tr>\n",
       "  </thead>\n",
       "  <tbody>\n",
       "    <tr>\n",
       "      <th>0</th>\n",
       "      <td>2.987250e+13</td>\n",
       "      <td>5642903</td>\n",
       "      <td>F</td>\n",
       "      <td>2016-04-29 18:38:08+00:00</td>\n",
       "      <td>2016-04-29 00:00:00+00:00</td>\n",
       "      <td>62</td>\n",
       "      <td>JARDIM DA PENHA</td>\n",
       "      <td>0</td>\n",
       "      <td>1</td>\n",
       "      <td>0</td>\n",
       "      <td>0</td>\n",
       "      <td>0</td>\n",
       "      <td>NaN</td>\n",
       "      <td>True</td>\n",
       "      <td>2016-04-29</td>\n",
       "      <td>00:00:00</td>\n",
       "      <td>2016-04-29</td>\n",
       "      <td>18:38:08</td>\n",
       "      <td>0</td>\n",
       "    </tr>\n",
       "    <tr>\n",
       "      <th>1</th>\n",
       "      <td>5.589978e+14</td>\n",
       "      <td>5642503</td>\n",
       "      <td>M</td>\n",
       "      <td>2016-04-29 16:08:27+00:00</td>\n",
       "      <td>2016-04-29 00:00:00+00:00</td>\n",
       "      <td>56</td>\n",
       "      <td>JARDIM DA PENHA</td>\n",
       "      <td>0</td>\n",
       "      <td>0</td>\n",
       "      <td>0</td>\n",
       "      <td>0</td>\n",
       "      <td>0</td>\n",
       "      <td>NaN</td>\n",
       "      <td>True</td>\n",
       "      <td>2016-04-29</td>\n",
       "      <td>00:00:00</td>\n",
       "      <td>2016-04-29</td>\n",
       "      <td>16:08:27</td>\n",
       "      <td>0</td>\n",
       "    </tr>\n",
       "    <tr>\n",
       "      <th>2</th>\n",
       "      <td>4.262962e+12</td>\n",
       "      <td>5642549</td>\n",
       "      <td>F</td>\n",
       "      <td>2016-04-29 16:19:04+00:00</td>\n",
       "      <td>2016-04-29 00:00:00+00:00</td>\n",
       "      <td>62</td>\n",
       "      <td>MATA DA PRAIA</td>\n",
       "      <td>0</td>\n",
       "      <td>0</td>\n",
       "      <td>0</td>\n",
       "      <td>0</td>\n",
       "      <td>0</td>\n",
       "      <td>NaN</td>\n",
       "      <td>True</td>\n",
       "      <td>2016-04-29</td>\n",
       "      <td>00:00:00</td>\n",
       "      <td>2016-04-29</td>\n",
       "      <td>16:19:04</td>\n",
       "      <td>0</td>\n",
       "    </tr>\n",
       "    <tr>\n",
       "      <th>3</th>\n",
       "      <td>8.679512e+11</td>\n",
       "      <td>5642828</td>\n",
       "      <td>F</td>\n",
       "      <td>2016-04-29 17:29:31+00:00</td>\n",
       "      <td>2016-04-29 00:00:00+00:00</td>\n",
       "      <td>8</td>\n",
       "      <td>PONTAL DE CAMBURI</td>\n",
       "      <td>0</td>\n",
       "      <td>0</td>\n",
       "      <td>0</td>\n",
       "      <td>0</td>\n",
       "      <td>0</td>\n",
       "      <td>NaN</td>\n",
       "      <td>True</td>\n",
       "      <td>2016-04-29</td>\n",
       "      <td>00:00:00</td>\n",
       "      <td>2016-04-29</td>\n",
       "      <td>17:29:31</td>\n",
       "      <td>0</td>\n",
       "    </tr>\n",
       "    <tr>\n",
       "      <th>4</th>\n",
       "      <td>8.841186e+12</td>\n",
       "      <td>5642494</td>\n",
       "      <td>F</td>\n",
       "      <td>2016-04-29 16:07:23+00:00</td>\n",
       "      <td>2016-04-29 00:00:00+00:00</td>\n",
       "      <td>56</td>\n",
       "      <td>JARDIM DA PENHA</td>\n",
       "      <td>0</td>\n",
       "      <td>1</td>\n",
       "      <td>1</td>\n",
       "      <td>0</td>\n",
       "      <td>0</td>\n",
       "      <td>NaN</td>\n",
       "      <td>True</td>\n",
       "      <td>2016-04-29</td>\n",
       "      <td>00:00:00</td>\n",
       "      <td>2016-04-29</td>\n",
       "      <td>16:07:23</td>\n",
       "      <td>0</td>\n",
       "    </tr>\n",
       "  </tbody>\n",
       "</table>\n",
       "</div>"
      ],
      "text/plain": [
       "      PatientId  AppointmentID Gender              ScheduledDay  \\\n",
       "0  2.987250e+13        5642903      F 2016-04-29 18:38:08+00:00   \n",
       "1  5.589978e+14        5642503      M 2016-04-29 16:08:27+00:00   \n",
       "2  4.262962e+12        5642549      F 2016-04-29 16:19:04+00:00   \n",
       "3  8.679512e+11        5642828      F 2016-04-29 17:29:31+00:00   \n",
       "4  8.841186e+12        5642494      F 2016-04-29 16:07:23+00:00   \n",
       "\n",
       "             AppointmentDay  Age      Neighbourhood  Scholarship  \\\n",
       "0 2016-04-29 00:00:00+00:00   62    JARDIM DA PENHA            0   \n",
       "1 2016-04-29 00:00:00+00:00   56    JARDIM DA PENHA            0   \n",
       "2 2016-04-29 00:00:00+00:00   62      MATA DA PRAIA            0   \n",
       "3 2016-04-29 00:00:00+00:00    8  PONTAL DE CAMBURI            0   \n",
       "4 2016-04-29 00:00:00+00:00   56    JARDIM DA PENHA            0   \n",
       "\n",
       "   Hipertension  Diabetes  Alcoholism  Handcap SMS_received  Show  \\\n",
       "0             1         0           0        0          NaN  True   \n",
       "1             0         0           0        0          NaN  True   \n",
       "2             0         0           0        0          NaN  True   \n",
       "3             0         0           0        0          NaN  True   \n",
       "4             1         1           0        0          NaN  True   \n",
       "\n",
       "  Appointment_date Appointment_time Scheduled_date Scheduled_time  \\\n",
       "0       2016-04-29         00:00:00     2016-04-29       18:38:08   \n",
       "1       2016-04-29         00:00:00     2016-04-29       16:08:27   \n",
       "2       2016-04-29         00:00:00     2016-04-29       16:19:04   \n",
       "3       2016-04-29         00:00:00     2016-04-29       17:29:31   \n",
       "4       2016-04-29         00:00:00     2016-04-29       16:07:23   \n",
       "\n",
       "   Days_interval  \n",
       "0              0  \n",
       "1              0  \n",
       "2              0  \n",
       "3              0  \n",
       "4              0  "
      ]
     },
     "execution_count": 18,
     "metadata": {},
     "output_type": "execute_result"
    }
   ],
   "source": [
    "df.head()"
   ]
  },
  {
   "cell_type": "markdown",
   "metadata": {},
   "source": [
    "# EXPLORATORY ANALYSIS"
   ]
  },
  {
   "cell_type": "markdown",
   "metadata": {},
   "source": [
    "###### What Age Range of The Patients is The Highest?"
   ]
  },
  {
   "cell_type": "code",
   "execution_count": 19,
   "metadata": {},
   "outputs": [
    {
     "data": {
      "text/plain": [
       "<matplotlib.axes._subplots.AxesSubplot at 0x7fc715f355f8>"
      ]
     },
     "execution_count": 19,
     "metadata": {},
     "output_type": "execute_result"
    },
    {
     "data": {
      "image/png": "[encoded data removed]",
      "text/plain": [
       "<matplotlib.figure.Figure at 0x7fc716949a20>"
      ]
     },
     "metadata": {
      "needs_background": "light"
     },
     "output_type": "display_data"
    }
   ],
   "source": [
    "df[['Age']].plot(kind='hist',bins=[0,20,40,60,80,100],rwidth=0.8)"
   ]
  },
  {
   "cell_type": "markdown",
   "metadata": {},
   "source": [
    "Most patients are Within the age range of 0 to 20 years and 40 to 60 years."
   ]
  },
  {
   "cell_type": "markdown",
   "metadata": {},
   "source": [
    "###### What Age Range Shows Up Most for Their Appointment?"
   ]
  },
  {
   "cell_type": "code",
   "execution_count": 20,
   "metadata": {},
   "outputs": [
    {
     "data": {
      "text/plain": [
       "Text(0,0.5,'Age')"
      ]
     },
     "execution_count": 20,
     "metadata": {},
     "output_type": "execute_result"
    },
    {
     "data": {
      "image/png": "[encoded data removed]",
      "text/plain": [
       "<matplotlib.figure.Figure at 0x7fc71615f940>"
      ]
     },
     "metadata": {
      "needs_background": "light"
     },
     "output_type": "display_data"
    }
   ],
   "source": [
    "Show = ['False', 'True']\n",
    "Show_means =df.groupby('Show')['Age'].mean()\n",
    "Show_means.plot(kind='bar', title='Average Age of patients who Showed Up', alpha=.7);\n",
    "plt.xlabel('Show', fontsize=18)\n",
    "plt.ylabel('Age', fontsize=18)"
   ]
  },
  {
   "cell_type": "markdown",
   "metadata": {},
   "source": [
    "From the Above, it can be deduced that patients of age 35 years and above are likely to Show up for Appointments than patients below 35 years of age."
   ]
  },
  {
   "cell_type": "markdown",
   "metadata": {},
   "source": [
    "###### What percentage of the patients actually benefited from the scholarship?"
   ]
  },
  {
   "cell_type": "code",
   "execution_count": 21,
   "metadata": {},
   "outputs": [
    {
     "data": {
      "image/png": "[encoded data removed]",
      "text/plain": [
       "<matplotlib.figure.Figure at 0x7fc716bb4cc0>"
      ]
     },
     "metadata": {},
     "output_type": "display_data"
    }
   ],
   "source": [
    "#visualize the percentage of patients that benefited in the scholarship\n",
    "\n",
    "df['Scholarship'].value_counts().plot(kind='pie', figsize= (8,8));"
   ]
  },
  {
   "cell_type": "markdown",
   "metadata": {},
   "source": [
    "A larger percentage of the patients are not enrolled in the schorlarship program."
   ]
  },
  {
   "cell_type": "code",
   "execution_count": 22,
   "metadata": {},
   "outputs": [
    {
     "data": {
      "text/plain": [
       "Text(0.5,1,'Schorlarship enrolment effect on Show up')"
      ]
     },
     "execution_count": 22,
     "metadata": {},
     "output_type": "execute_result"
    },
    {
     "data": {
      "image/png": "[encoded data removed]",
      "text/plain": [
       "<matplotlib.figure.Figure at 0x7fc7161c0198>"
      ]
     },
     "metadata": {
      "needs_background": "light"
     },
     "output_type": "display_data"
    }
   ],
   "source": [
    "plt.hist(df.Scholarship[df.Show== True], 5, color='r', alpha=0.2, label='show up');\n",
    "plt.hist(df.Scholarship[df.Show== False], 5, color='g', alpha=0.2, label='misses');\n",
    "plt.legend()\n",
    "plt.xlabel('Show')\n",
    "plt.ylabel('Scholarship')\n",
    "plt.title('Schorlarship enrolment effect on Show up')"
   ]
  },
  {
   "cell_type": "markdown",
   "metadata": {},
   "source": [
    "From the plot, it can be deduced that enrollment in the scholarship as little or no effect in determining if the patients are likely to show up for appointment or not. "
   ]
  },
  {
   "cell_type": "markdown",
   "metadata": {},
   "source": [
    "We will like to investigate if the neighbourhod of registration determines if a patients shows up for appointment or not.\n",
    "we try to check the number of patients from each neighbouhood"
   ]
  },
  {
   "cell_type": "code",
   "execution_count": 23,
   "metadata": {},
   "outputs": [
    {
     "data": {
      "text/plain": [
       "JARDIM CAMBURI                 7717\n",
       "MARIA ORTIZ                    5805\n",
       "RESISTÊNCIA                    4431\n",
       "JARDIM DA PENHA                3877\n",
       "ITARARÉ                        3514\n",
       "                               ... \n",
       "ILHA DO BOI                      35\n",
       "ILHA DO FRADE                    10\n",
       "AEROPORTO                         8\n",
       "ILHAS OCEÂNICAS DE TRINDADE       2\n",
       "PARQUE INDUSTRIAL                 1\n",
       "Name: Neighbourhood, Length: 81, dtype: int64"
      ]
     },
     "execution_count": 23,
     "metadata": {},
     "output_type": "execute_result"
    }
   ],
   "source": [
    "#visualize the number of patients from each unique neighbourhood\n",
    "df['Neighbourhood'].value_counts()"
   ]
  },
  {
   "cell_type": "markdown",
   "metadata": {},
   "source": [
    "#### What are the top 10 neighborhood the patients registered"
   ]
  },
  {
   "cell_type": "code",
   "execution_count": 24,
   "metadata": {},
   "outputs": [
    {
     "data": {
      "image/png": "[encoded data removed]",
      "text/plain": [
       "<matplotlib.figure.Figure at 0x7fc7161c24a8>"
      ]
     },
     "metadata": {
      "needs_background": "light"
     },
     "output_type": "display_data"
    }
   ],
   "source": [
    "#visualize the top 10 neighborhood patients registered\n",
    "Neighbourhood_order = df['Neighbourhood'].value_counts().head(10).index\n",
    "plt.figure(figsize=(9, 5))\n",
    "sns.countplot(data=df, y='Neighbourhood', order=Neighbourhood_order)\n",
    "plt.title('Top 10 Neighbourhood that shows up')\n",
    "plt.xlabel('Show')\n",
    "plt.ylabel('Neighbourhood');"
   ]
  },
  {
   "cell_type": "markdown",
   "metadata": {},
   "source": [
    "The bar shows the top 10 neighbourhood patients registered with 'JARDIM CAMBURI' having the highest number of patients.\n"
   ]
  },
  {
   "cell_type": "markdown",
   "metadata": {},
   "source": [
    "We then visualize the rate at which patient showed up for appointment in the highest registered neighbourhood (JAMDIM CAMBURI) and compared it to one of the least registered neighbourhood (ILHA DO FRADE)"
   ]
  },
  {
   "cell_type": "code",
   "execution_count": 25,
   "metadata": {},
   "outputs": [
    {
     "data": {
      "text/plain": [
       "Text(0,0.5,'Neighbourhood')"
      ]
     },
     "execution_count": 25,
     "metadata": {},
     "output_type": "execute_result"
    },
    {
     "data": {
      "image/png": "[encoded data removed]",
      "text/plain": [
       "<matplotlib.figure.Figure at 0x7fc7161a7780>"
      ]
     },
     "metadata": {
      "needs_background": "light"
     },
     "output_type": "display_data"
    }
   ],
   "source": [
    "#visualize the rate at which patient showed up for appointment in the highest registered neighbourhood (JAMDIM CAMBURI)\n",
    "\n",
    "neighbourhoodvisual = df[df['Neighbourhood']=='JARDIM CAMBURI']['Show'].value_counts()\n",
    "neighbourhoodvisual.plot(kind='bar',figsize=(10,8))\n",
    "plt.title('The percentage of Patients who Show Up from JARDIM CAMBURI')\n",
    "plt.xlabel('Show Up')\n",
    "plt.ylabel('Neighbourhood')"
   ]
  },
  {
   "cell_type": "code",
   "execution_count": 26,
   "metadata": {},
   "outputs": [
    {
     "data": {
      "text/plain": [
       "Text(0.5,1,'The percentage of Patients who Show Up from ILHA DO FRADE')"
      ]
     },
     "execution_count": 26,
     "metadata": {},
     "output_type": "execute_result"
    },
    {
     "data": {
      "image/png": "[encoded data removed]",
      "text/plain": [
       "<matplotlib.figure.Figure at 0x7fc71619b6a0>"
      ]
     },
     "metadata": {},
     "output_type": "display_data"
    }
   ],
   "source": [
    "neighbourhoodvisual = df[df['Neighbourhood']=='ILHA DO FRADE']['Show'].value_counts()\n",
    "neighbourhoodvisual.plot(kind='pie',figsize=(10,8))\n",
    "plt.title('The percentage of Patients who Show Up from ILHA DO FRADE')"
   ]
  },
  {
   "cell_type": "markdown",
   "metadata": {},
   "source": [
    "We examined the rate of show up in two of the neighboruhood; one with highest number of registered patients (JAMDIM CAMBURI) and the other has one of the least number of registration (ILHA DO FRADE).\n",
    "From the two plots, it can be deduced that the neighbourhood has little to no effect on determining if a patient is likely to show up for appointment or not."
   ]
  },
  {
   "cell_type": "markdown",
   "metadata": {},
   "source": [
    "#### How long do patients wait for appointment from their scheduled date?"
   ]
  },
  {
   "cell_type": "code",
   "execution_count": 27,
   "metadata": {},
   "outputs": [
    {
     "data": {
      "text/plain": [
       " 0      38563\n",
       " 2       6725\n",
       " 4       5290\n",
       " 1       5213\n",
       " 7       4906\n",
       "        ...  \n",
       " 117        1\n",
       " 146        1\n",
       " 82         1\n",
       "-6          1\n",
       " 127        1\n",
       "Name: Days_interval, Length: 131, dtype: int64"
      ]
     },
     "execution_count": 27,
     "metadata": {},
     "output_type": "execute_result"
    }
   ],
   "source": [
    "df['Days_interval'].value_counts()"
   ]
  },
  {
   "cell_type": "markdown",
   "metadata": {},
   "source": [
    "The most frequent day interval between appointment day and scheduled day is 0, which means that most patients has their appointment fixed same day it was scheduled."
   ]
  },
  {
   "cell_type": "markdown",
   "metadata": {},
   "source": [
    "#### What day interval shows up the most for appointment?"
   ]
  },
  {
   "cell_type": "code",
   "execution_count": 28,
   "metadata": {},
   "outputs": [
    {
     "data": {
      "text/plain": [
       "Text(0,0.5,'Days Interval')"
      ]
     },
     "execution_count": 28,
     "metadata": {},
     "output_type": "execute_result"
    },
    {
     "data": {
      "image/png": "[encoded data removed]",
      "text/plain": [
       "<matplotlib.figure.Figure at 0x7fc7161ed6a0>"
      ]
     },
     "metadata": {
      "needs_background": "light"
     },
     "output_type": "display_data"
    }
   ],
   "source": [
    "# visualize the percentage of patients that shows up on their appointment considering the days interval between scheduled day and appointment day\n",
    "\n",
    "Show = ['False', 'True']\n",
    "Show_means =df.groupby('Show')['Days_interval'].mean()\n",
    "Show_means.plot(kind='bar', title='Average Days interval for patients To Show Up', alpha=.7);\n",
    "plt.xlabel('Show Up', fontsize=18)\n",
    "plt.ylabel('Days Interval', fontsize=18)"
   ]
  },
  {
   "cell_type": "markdown",
   "metadata": {},
   "source": [
    "The plot shows that patients who schedule and appointment day interval does not exceed 8 days shows up more than those whose appointments days are fixed at later days."
   ]
  },
  {
   "cell_type": "markdown",
   "metadata": {},
   "source": [
    "#### what are the most prevalent ailment treated by the patient?"
   ]
  },
  {
   "cell_type": "code",
   "execution_count": 29,
   "metadata": {},
   "outputs": [
    {
     "data": {
      "image/png": "[encoded data removed]",
      "text/plain": [
       "<matplotlib.figure.Figure at 0x7fc716bc79e8>"
      ]
     },
     "metadata": {
      "needs_background": "light"
     },
     "output_type": "display_data"
    },
    {
     "data": {
      "text/plain": [
       "Text(3.2,0.5,'ylabel')"
      ]
     },
     "execution_count": 29,
     "metadata": {},
     "output_type": "execute_result"
    }
   ],
   "source": [
    "Hipertension = df[\"Hipertension\"]\n",
    "Diabetes = df[\"Diabetes\"]\n",
    "Alcoholism = df[\"Alcoholism\"]\n",
    "Handcap = df[\"Handcap\"]\n",
    "columns = [Hipertension, Diabetes, Alcoholism, Handcap]\n",
    "\n",
    "fig, ax = plt.subplots()\n",
    "ax.boxplot(columns)\n",
    "plt.show()\n",
    "\n",
    "ax.set_title('ailments')\n",
    "ax.set_xlabel('xlabel')\n",
    "ax.set_ylabel('ylabel')"
   ]
  },
  {
   "cell_type": "markdown",
   "metadata": {},
   "source": [
    "Most prominent ailment treated by patient is Handcap."
   ]
  },
  {
   "cell_type": "code",
   "execution_count": 30,
   "metadata": {},
   "outputs": [
    {
     "data": {
      "text/plain": [
       "<matplotlib.legend.Legend at 0x7fc715fc81d0>"
      ]
     },
     "execution_count": 30,
     "metadata": {},
     "output_type": "execute_result"
    },
    {
     "data": {
      "image/png": "[encoded data removed]",
      "text/plain": [
       "<matplotlib.figure.Figure at 0x7fc716e07ba8>"
      ]
     },
     "metadata": {
      "needs_background": "light"
     },
     "output_type": "display_data"
    }
   ],
   "source": [
    "plt.hist(df['Hipertension'],bins = 2, alpha = 0.1, \n",
    "         color = 'red')\n",
    "plt.hist(df['Diabetes'],bins = 2, alpha = 0.1,\n",
    "         color = 'blue')\n",
    "plt.hist(df['Alcoholism'],bins = 2, alpha = 0.1,\n",
    "         color = 'yellow')\n",
    "plt.hist(df['Handcap'],bins = 2, alpha = 0.1,\n",
    "         color = 'green')\n",
    "  \n",
    "plt.title(\"histogram showing different ailments diagnosed\")\n",
    "plt.legend(['Hipertension', 'Diabetes', 'Alcoholism', 'Handcap'])"
   ]
  },
  {
   "cell_type": "markdown",
   "metadata": {},
   "source": [
    "Handcap is the most common ailment"
   ]
  },
  {
   "cell_type": "markdown",
   "metadata": {},
   "source": [
    "# CONCLUSION"
   ]
  },
  {
   "cell_type": "markdown",
   "metadata": {},
   "source": [
    "###### Result "
   ]
  },
  {
   "cell_type": "markdown",
   "metadata": {},
   "source": [
    "From the data anlysed, we can deduce that:\n",
    "\n",
    "1. patients within the age range 35 and above are more likely to show up for appointment than patients younger than 30\n",
    "2. patients whose interval between \"scheduled date\" and \"appointment day\" is within 0 to 8 days are likely to show up for appointment than patients with more than 8 days interval.\n",
    "3. Neighborhood the patients registered has little or no effect in determining if a patient will show up\n",
    "4. Only few pwercentage of the patient are enrolled in scholarship. Also scholarship enrollment has no effect in patient showing up for appointment"
   ]
  },
  {
   "cell_type": "markdown",
   "metadata": {},
   "source": [
    "###### Limitation"
   ]
  },
  {
   "cell_type": "markdown",
   "metadata": {},
   "source": [
    "1. Most of the data are categorical which limit our ability to carry out some analysis\n",
    "2. no statistical analysis is carried out"
   ]
  },
  {
   "cell_type": "code",
   "execution_count": 31,
   "metadata": {},
   "outputs": [
    {
     "data": {
      "text/plain": [
       "0"
      ]
     },
     "execution_count": 31,
     "metadata": {},
     "output_type": "execute_result"
    }
   ],
   "source": [
    "from subprocess import call\n",
    "call(['python', '-m', 'nbconvert', 'Investigate_a_Dataset.ipynb'])"
   ]
  },
  {
   "cell_type": "code",
   "execution_count": null,
   "metadata": {},
   "outputs": [],
   "source": []
  }
 ],
 "metadata": {
  "kernelspec": {
   "display_name": "Python 3",
   "language": "python",
   "name": "python3"
  },
  "language_info": {
   "codemirror_mode": {
    "name": "ipython",
    "version": 3
   },
   "file_extension": ".py",
   "mimetype": "text/x-python",
   "name": "python",
   "nbconvert_exporter": "python",
   "pygments_lexer": "ipython3",
   "version": "3.6.3"
  }
 },
 "nbformat": 4,
 "nbformat_minor": 2
}
